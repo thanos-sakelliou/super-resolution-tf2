{
 "cells": [
  {
   "cell_type": "code",
   "execution_count": 1,
   "id": "interpreted-dominican",
   "metadata": {},
   "outputs": [],
   "source": [
    "import os\n",
    "import matplotlib.pyplot as plt\n",
    "\n",
    "from model.srgan import generator, discriminator\n",
    "from model.edsr import edsr\n",
    "from model.wdsr import wdsr_b\n",
    "\n",
    "%matplotlib inline"
   ]
  },
  {
   "cell_type": "code",
   "execution_count": 2,
   "id": "compound-emerald",
   "metadata": {},
   "outputs": [],
   "source": [
    "# EDSR\n",
    "\n",
    "# Number of residual blocks\n",
    "depth = 16\n",
    "# Super-resolution factor\n",
    "scale = 4\n",
    "# Downgrade operator\n",
    "downgrade = 'bicubic'\n",
    "# Location of model weights \n",
    "weights_dir = f'weights/edsr-{depth}-x{scale}'\n",
    "weights_file = os.path.join(weights_dir, 'weights.h5')\n",
    "\n",
    "edsr_model = edsr(scale=scale, num_res_blocks=depth)\n",
    "edsr_model.load_weights(weights_file)"
   ]
  },
  {
   "cell_type": "code",
   "execution_count": 3,
   "id": "resistant-geography",
   "metadata": {},
   "outputs": [],
   "source": [
    "# WDSR\n",
    "\n",
    "# Number of residual blocks\n",
    "depth = 32\n",
    "# Super-resolution factor\n",
    "scale = 4\n",
    "# Downgrade operator\n",
    "downgrade = 'bicubic'\n",
    "# Location of model weights \n",
    "weights_dir = f'weights/wdsr-b-{depth}-x{scale}'\n",
    "weights_file = os.path.join(weights_dir, 'weights.h5')\n",
    "\n",
    "wdsr_model = wdsr_b(scale=scale, num_res_blocks=depth)\n",
    "wdsr_model.load_weights(weights_file)"
   ]
  },
  {
   "cell_type": "code",
   "execution_count": 4,
   "id": "bibliographic-rebel",
   "metadata": {},
   "outputs": [],
   "source": [
    "#SRGAN\n",
    "\n",
    "weights_dir = 'weights/srgan'\n",
    "weights_file = lambda filename: os.path.join(weights_dir, filename)\n",
    "\n",
    "pre_generator = generator()\n",
    "gan_generator = generator()\n",
    "\n",
    "pre_generator.load_weights(weights_file('pre_generator.h5'))\n",
    "gan_generator.load_weights(weights_file('gan_generator.h5'))"
   ]
  },
  {
   "cell_type": "code",
   "execution_count": 5,
   "id": "stopped-resident",
   "metadata": {},
   "outputs": [],
   "source": [
    "from model import resolve_single\n",
    "from utils import load_image, plot_sample\n",
    "\n",
    "def resolve_and_plot(model, lr_image_path):\n",
    "    lr = load_image(lr_image_path)\n",
    "    sr = resolve_single(model, lr)\n",
    "    sr = resolve_single(model, sr)\n",
    "    plot_sample(lr, sr)"
   ]
  },
  {
   "cell_type": "code",
   "execution_count": null,
   "id": "unusual-ideal",
   "metadata": {},
   "outputs": [],
   "source": [
    "resolve_and_plot(edsr_model, '/media/thanos/BARACUDA/ARCHIVE/Downloads/super-res/field.png')"
   ]
  },
  {
   "cell_type": "code",
   "execution_count": null,
   "id": "alpine-young",
   "metadata": {},
   "outputs": [],
   "source": [
    "resolve_and_plot(wdsr_model, '/media/thanos/BARACUDA/ARCHIVE/Downloads/super-res/field.png')"
   ]
  },
  {
   "cell_type": "code",
   "execution_count": null,
   "id": "touched-innocent",
   "metadata": {},
   "outputs": [],
   "source": [
    "resolve_and_plot(pre_generator, '/media/thanos/BARACUDA/ARCHIVE/Downloads/super-res/field.png')\n",
    "resolve_and_plot(gan_generator, '/media/thanos/BARACUDA/ARCHIVE/Downloads/super-res/field.png')"
   ]
  },
  {
   "cell_type": "code",
   "execution_count": null,
   "id": "hungarian-papua",
   "metadata": {},
   "outputs": [],
   "source": []
  }
 ],
 "metadata": {
  "kernelspec": {
   "display_name": "Python 3",
   "language": "python",
   "name": "python3"
  },
  "language_info": {
   "codemirror_mode": {
    "name": "ipython",
    "version": 3
   },
   "file_extension": ".py",
   "mimetype": "text/x-python",
   "name": "python",
   "nbconvert_exporter": "python",
   "pygments_lexer": "ipython3",
   "version": "3.6.13"
  }
 },
 "nbformat": 4,
 "nbformat_minor": 5
}
