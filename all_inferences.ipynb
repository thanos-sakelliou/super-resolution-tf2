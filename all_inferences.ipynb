{
 "cells": [
  {
   "cell_type": "code",
   "execution_count": 1,
   "id": "verbal-wichita",
   "metadata": {},
   "outputs": [],
   "source": [
    "import os\n",
    "import matplotlib.pyplot as plt\n",
    "\n",
    "from model.srgan import generator, discriminator\n",
    "from model.edsr import edsr\n",
    "from model.wdsr import wdsr_b\n",
    "\n",
    "%matplotlib inline"
   ]
  },
  {
   "cell_type": "code",
   "execution_count": 2,
   "id": "dying-champion",
   "metadata": {},
   "outputs": [],
   "source": [
    "# EDSR\n",
    "\n",
    "# Number of residual blocks\n",
    "depth = 16\n",
    "# Super-resolution factor\n",
    "scale = 4\n",
    "# Downgrade operator\n",
    "downgrade = 'bicubic'\n",
    "# Location of model weights \n",
    "weights_dir = f'weights/edsr-{depth}-x{scale}'\n",
    "weights_file = os.path.join(weights_dir, 'weights.h5')\n",
    "\n",
    "edsr_model = edsr(scale=scale, num_res_blocks=depth)\n",
    "edsr_model.load_weights(weights_file)"
   ]
  },
  {
   "cell_type": "code",
   "execution_count": 3,
   "id": "primary-typing",
   "metadata": {},
   "outputs": [],
   "source": [
    "# WDSR\n",
    "\n",
    "# Number of residual blocks\n",
    "depth = 32\n",
    "# Super-resolution factor\n",
    "scale = 4\n",
    "# Downgrade operator\n",
    "downgrade = 'bicubic'\n",
    "# Location of model weights \n",
    "weights_dir = f'weights/wdsr-b-{depth}-x{scale}'\n",
    "weights_file = os.path.join(weights_dir, 'weights.h5')\n",
    "\n",
    "wdsr_model = wdsr_b(scale=scale, num_res_blocks=depth)\n",
    "wdsr_model.load_weights(weights_file)"
   ]
  },
  {
   "cell_type": "code",
   "execution_count": 4,
   "id": "governing-bankruptcy",
   "metadata": {},
   "outputs": [],
   "source": [
    "#SRGAN\n",
    "\n",
    "weights_dir = 'weights/srgan'\n",
    "weights_file = lambda filename: os.path.join(weights_dir, filename)\n",
    "\n",
    "pre_generator = generator()\n",
    "gan_generator = generator()\n",
    "\n",
    "pre_generator.load_weights(weights_file('pre_generator.h5'))\n",
    "gan_generator.load_weights(weights_file('gan_generator.h5'))"
   ]
  },
  {
   "cell_type": "code",
   "execution_count": 23,
   "id": "further-memphis",
   "metadata": {},
   "outputs": [],
   "source": [
    "from model import resolve_single\n",
    "from utils import load_image, plot_sample\n",
    "# import cv2\n",
    "import tensorflow as tf\n",
    "\n",
    "def resolve_and_plot(model, lr_image_path):\n",
    "    lr = load_image(lr_image_path)\n",
    "    sr = resolve_single(model, lr)\n",
    "    plot_sample(lr, sr)\n",
    "    \n",
    "def resolve_and_save(model, lr_image_path):\n",
    "    lr = load_image(lr_image_path)\n",
    "    sr = resolve_single(model, lr)\n",
    "#     cv2.imwrite('results/{:s}_rlt.png'.format(model.name), sr)\n",
    "    tf.keras.preprocessing.image.save_img('output/{:s}_rlt.png'.format(model.name), sr)\n"
   ]
  },
  {
   "cell_type": "code",
   "execution_count": 24,
   "id": "furnished-watch",
   "metadata": {},
   "outputs": [],
   "source": [
    "resolve_and_save(edsr_model, 'input/field.png')"
   ]
  },
  {
   "cell_type": "code",
   "execution_count": 25,
   "id": "unexpected-thirty",
   "metadata": {},
   "outputs": [],
   "source": [
    "resolve_and_save(wdsr_model, '/media/thanos/BARACUDA/ARCHIVE/Downloads/super-res/field.png')"
   ]
  },
  {
   "cell_type": "code",
   "execution_count": 26,
   "id": "ultimate-prerequisite",
   "metadata": {},
   "outputs": [],
   "source": [
    "resolve_and_save(pre_generator, '/media/thanos/BARACUDA/ARCHIVE/Downloads/super-res/field.png')\n",
    "resolve_and_save(gan_generator, '/media/thanos/BARACUDA/ARCHIVE/Downloads/super-res/field.png')"
   ]
  },
  {
   "cell_type": "code",
   "execution_count": null,
   "id": "medical-reunion",
   "metadata": {},
   "outputs": [],
   "source": []
  }
 ],
 "metadata": {
  "kernelspec": {
   "display_name": "Python 3",
   "language": "python",
   "name": "python3"
  },
  "language_info": {
   "codemirror_mode": {
    "name": "ipython",
    "version": 3
   },
   "file_extension": ".py",
   "mimetype": "text/x-python",
   "name": "python",
   "nbconvert_exporter": "python",
   "pygments_lexer": "ipython3",
   "version": "3.6.13"
  }
 },
 "nbformat": 4,
 "nbformat_minor": 5
}
